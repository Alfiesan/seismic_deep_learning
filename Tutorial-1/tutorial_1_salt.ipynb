{
  "nbformat": 4,
  "nbformat_minor": 0,
  "metadata": {
    "kernelspec": {
      "display_name": "Python 3",
      "language": "python",
      "name": "python3"
    },
    "language_info": {
      "codemirror_mode": {
        "name": "ipython",
        "version": 3
      },
      "file_extension": ".py",
      "mimetype": "text/x-python",
      "name": "python",
      "nbconvert_exporter": "python",
      "pygments_lexer": "ipython3",
      "version": "3.7.6"
    },
    "colab": {
      "name": "Copy of tutorial-1-salt.ipynb",
      "provenance": [],
      "toc_visible": true
    },
    "accelerator": "GPU"
  },
  "cells": [
    {
      "cell_type": "markdown",
      "metadata": {
        "id": "-86CD_8MCil2",
        "colab_type": "text"
      },
      "source": [
        "# Deep learning for salt mapping in 2-D seismic image\n",
        "This tutorial describes how to map salt bodies in 2-D seismic reflection data using deep learning. First, we set up the deep learning library fast.ai by running this command:"
      ]
    },
    {
      "cell_type": "code",
      "metadata": {
        "id": "MqHvAsURCzjd",
        "colab_type": "code",
        "colab": {}
      },
      "source": [
        " !curl -s https://course.fast.ai/setup/colab | bash"
      ],
      "execution_count": null,
      "outputs": []
    },
    {
      "cell_type": "code",
      "metadata": {
        "id": "Nhiv45KcEW5L",
        "colab_type": "code",
        "colab": {}
      },
      "source": [
        "!git clone https://github.com/thilowrona/seismic_deep_learning"
      ],
      "execution_count": null,
      "outputs": []
    }
  ]
}
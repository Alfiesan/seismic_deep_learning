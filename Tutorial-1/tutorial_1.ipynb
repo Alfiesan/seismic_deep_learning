{
  "nbformat": 4,
  "nbformat_minor": 0,
  "metadata": {
    "kernelspec": {
      "display_name": "Python 3",
      "language": "python",
      "name": "python3"
    },
    "language_info": {
      "codemirror_mode": {
        "name": "ipython",
        "version": 3
      },
      "file_extension": ".py",
      "mimetype": "text/x-python",
      "name": "python",
      "nbconvert_exporter": "python",
      "pygments_lexer": "ipython3",
      "version": "3.7.6"
    },
    "colab": {
      "name": "Copy of tutorial-1.ipynb",
      "provenance": []
    },
    "accelerator": "GPU"
  },
  "cells": [
    {
      "cell_type": "markdown",
      "metadata": {
        "id": "CUTQmbtAMW8-",
        "colab_type": "text"
      },
      "source": [
        "# Deep learning for salt mapping in 2-D seismic image\n",
        "This tutorial describes how to map salt in a 2-D seismic image using a deep convolutional neural network. To follow this tutorial, you won't need any special hardware, software, data or experience - just a Google account."
      ]
    },
    {
      "cell_type": "markdown",
      "metadata": {
        "id": "QblsbKcgMW8_",
        "colab_type": "text"
      },
      "source": [
        "## Setup ##\n",
        "### Colab ###"
      ]
    },
    {
      "cell_type": "markdown",
      "metadata": {
        "id": "B0wQrs-EMW8_",
        "colab_type": "text"
      },
      "source": [
        "1. First, you will need sign in to your Google account. If you're not signed in, you can sign in [here](https://myaccount.google.com/?utm_source=sign_in_no_continue)"
      ]
    },
    {
      "cell_type": "markdown",
      "metadata": {
        "id": "NGnJM0s6MW9A",
        "colab_type": "text"
      },
      "source": [
        "2. Next, head on to the [Colab Welcome Page](https://colab.research.google.com/notebooks/welcome.ipynb#recent=true)."
      ]
    },
    {
      "cell_type": "markdown",
      "metadata": {
        "id": "_tZRuCpGMW9B",
        "colab_type": "text"
      },
      "source": [
        "3. There, select Github in the top tab and search for https://github.com/thilowrona/seismic_deep_learning/blob/master/Tutorial-1/tutorial-1.ipynb"
      ]
    },
    {
      "cell_type": "markdown",
      "metadata": {
        "id": "_e7K2AgQMW9B",
        "colab_type": "text"
      },
      "source": [
        "4. Clicking opens this notebook. This is a Jupyter notebook; an awesome combination of code and documentation allowing us work on, describe and share our projects."
      ]
    },
    {
      "cell_type": "markdown",
      "metadata": {
        "id": "tDMmep_zMW9C",
        "colab_type": "text"
      },
      "source": [
        "5. Before running anything in here, you need to tell Colab that would like to use a GPU (important to train our models quickly). This is done by clicking on the ‘Runtime’ tab, selecting ‘Change runtime type’, changing hardware accelerator to ´GPU´ and clicking ´save´. Excellent! Colab is now set up!"
      ]
    },
    {
      "cell_type": "markdown",
      "metadata": {
        "id": "h2q7N0N7MW9C",
        "colab_type": "text"
      },
      "source": [
        "### Notebooks ###"
      ]
    },
    {
      "cell_type": "markdown",
      "metadata": {
        "id": "D68n5oteMW9D",
        "colab_type": "text"
      },
      "source": [
        "1. Before using this notebook, you need to install the necessary packages. You can do this by creating a code cell (i.e. clicking ´+ code´ in top left corner), running this command:"
      ]
    },
    {
      "cell_type": "code",
      "metadata": {
        "id": "cAfojLigMW9E",
        "colab_type": "code",
        "colab": {
          "base_uri": "https://localhost:8080/",
          "height": 51
        },
        "outputId": "c0dc470d-831e-42dd-de2e-cf0a44ea671b"
      },
      "source": [
        " !curl -s https://course.fast.ai/setup/colab | bash"
      ],
      "execution_count": 1,
      "outputs": [
        {
          "output_type": "stream",
          "text": [
            "Updating fastai...\n",
            "Done.\n"
          ],
          "name": "stdout"
        }
      ]
    },
    {
      "cell_type": "markdown",
      "metadata": {
        "id": "Xx1Kk9KOMW9H",
        "colab_type": "text"
      },
      "source": [
        "2. When you run the first cell, you will face a pop-up saying ‘Warning: This notebook was not authored by Google’; you should click on ‘Run Anyway’ to get rid of the warning."
      ]
    },
    {
      "cell_type": "markdown",
      "metadata": {
        "id": "d_q6FXA2MW9I",
        "colab_type": "text"
      },
      "source": [
        "3. Next we want to save our notebook. If you click on ‘File’ and then ‘Save’, you will see a pop-up saying ´CANNOT SAVE CHANGES´. Now, click on ‘SAVE A COPY IN DRIVE’. This opens up a new tab with the same file, but this time located in your Drive. If you want to continue working after saving, use the file in the new tab. Your notebook will be saved in a folder called Colab Notebooks in your Google Drive by default."
      ]
    },
    {
      "cell_type": "markdown",
      "metadata": {
        "id": "EB9FA_nwMW9I",
        "colab_type": "text"
      },
      "source": [
        "4. Last, we would like to load and save files (e.g. our seismic and interpretation). To save files, you need to permit your Colaboratory instance to read and write files to your Google Drive. Luckily, Colab has a UI for permanently mounting your Google Drive. Just click on the files icon on the left sidebar and press the ´Mount Drive´ icon in the top right corner.\n",
        "\n",
        "After clicking the button you’ll be asked to authorize Colaboratory to access your Google Drive. Once you do, your notebook will automatically mount that drive whenever the runtime is loaded, and the sidebar will show the contents of your drive. Accessing data on your drive is then simply a matter of pointing at the right path. Add the following code snippet at the beginning of every notebook:"
      ]
    },
    {
      "cell_type": "code",
      "metadata": {
        "id": "6lYsT7o8MW9J",
        "colab_type": "code",
        "colab": {}
      },
      "source": [
        "root_dir = \"drive/My Drive/\"\n",
        "base_dir = root_dir + 'fastai-v3/'"
      ],
      "execution_count": 6,
      "outputs": []
    },
    {
      "cell_type": "markdown",
      "metadata": {
        "id": "EzYfnds6MzmD",
        "colab_type": "text"
      },
      "source": [
        "## Load data ##\n",
        "Now that everything is set up, we can load our data: the seismic image and the labels:"
      ]
    },
    {
      "cell_type": "code",
      "metadata": {
        "id": "U61omFR3NCGk",
        "colab_type": "code",
        "colab": {
          "base_uri": "https://localhost:8080/",
          "height": 391
        },
        "outputId": "f1ea16a4-1f44-4250-f487-88776a2dd1a1"
      },
      "source": [
        "!wget -O data.tif 'https://drive.google.com/file/d/1DnChwuQ03dm8Cosw471LDrG_H6MRfXxb/view?usp=sharing'\n",
        "!wget -O label.tif 'https://drive.google.com/file/d/1PakAjPRSKjNeTG6jkoCos-jsRRXdwYt7/view?usp=sharing'"
      ],
      "execution_count": 2,
      "outputs": [
        {
          "output_type": "stream",
          "text": [
            "--2020-08-19 15:02:48--  https://drive.google.com/file/d/1DnChwuQ03dm8Cosw471LDrG_H6MRfXxb/view?usp=sharing\n",
            "Resolving drive.google.com (drive.google.com)... 172.217.194.101, 172.217.194.100, 172.217.194.102, ...\n",
            "Connecting to drive.google.com (drive.google.com)|172.217.194.101|:443... connected.\n",
            "HTTP request sent, awaiting response... 200 OK\n",
            "Length: unspecified [text/html]\n",
            "Saving to: ‘data.tif’\n",
            "\n",
            "data.tif                [ <=>                ]  69.74K  --.-KB/s    in 0.1s    \n",
            "\n",
            "2020-08-19 15:02:48 (482 KB/s) - ‘data.tif’ saved [71414]\n",
            "\n",
            "--2020-08-19 15:02:50--  https://drive.google.com/file/d/1PakAjPRSKjNeTG6jkoCos-jsRRXdwYt7/view?usp=sharing\n",
            "Resolving drive.google.com (drive.google.com)... 74.125.24.113, 74.125.24.100, 74.125.24.138, ...\n",
            "Connecting to drive.google.com (drive.google.com)|74.125.24.113|:443... connected.\n",
            "HTTP request sent, awaiting response... 200 OK\n",
            "Length: unspecified [text/html]\n",
            "Saving to: ‘label.tif’\n",
            "\n",
            "label.tif               [ <=>                ]  69.81K  --.-KB/s    in 0.1s    \n",
            "\n",
            "2020-08-19 15:02:51 (473 KB/s) - ‘label.tif’ saved [71486]\n",
            "\n"
          ],
          "name": "stdout"
        }
      ]
    },
    {
      "cell_type": "code",
      "metadata": {
        "id": "QN5HA2neOleX",
        "colab_type": "code",
        "colab": {
          "base_uri": "https://localhost:8080/",
          "height": 340
        },
        "outputId": "d1c0bb06-8408-4718-c116-bf7db9102339"
      },
      "source": [
        "import matplotlib.pyplot as plt\n",
        "\n",
        "plt.imread('data.tif')"
      ],
      "execution_count": 7,
      "outputs": [
        {
          "output_type": "error",
          "ename": "UnidentifiedImageError",
          "evalue": "ignored",
          "traceback": [
            "\u001b[0;31m---------------------------------------------------------------------------\u001b[0m",
            "\u001b[0;31mUnidentifiedImageError\u001b[0m                    Traceback (most recent call last)",
            "\u001b[0;32m<ipython-input-7-e02d60bf5997>\u001b[0m in \u001b[0;36m<module>\u001b[0;34m()\u001b[0m\n\u001b[1;32m      1\u001b[0m \u001b[0;32mimport\u001b[0m \u001b[0mmatplotlib\u001b[0m\u001b[0;34m.\u001b[0m\u001b[0mpyplot\u001b[0m \u001b[0;32mas\u001b[0m \u001b[0mplt\u001b[0m\u001b[0;34m\u001b[0m\u001b[0;34m\u001b[0m\u001b[0m\n\u001b[1;32m      2\u001b[0m \u001b[0;34m\u001b[0m\u001b[0m\n\u001b[0;32m----> 3\u001b[0;31m \u001b[0mplt\u001b[0m\u001b[0;34m.\u001b[0m\u001b[0mimread\u001b[0m\u001b[0;34m(\u001b[0m\u001b[0;34m'data.tif'\u001b[0m\u001b[0;34m)\u001b[0m\u001b[0;34m\u001b[0m\u001b[0;34m\u001b[0m\u001b[0m\n\u001b[0m",
            "\u001b[0;32m/usr/local/lib/python3.6/dist-packages/matplotlib/pyplot.py\u001b[0m in \u001b[0;36mimread\u001b[0;34m(fname, format)\u001b[0m\n\u001b[1;32m   2059\u001b[0m \u001b[0;34m@\u001b[0m\u001b[0mdocstring\u001b[0m\u001b[0;34m.\u001b[0m\u001b[0mcopy\u001b[0m\u001b[0;34m(\u001b[0m\u001b[0mmatplotlib\u001b[0m\u001b[0;34m.\u001b[0m\u001b[0mimage\u001b[0m\u001b[0;34m.\u001b[0m\u001b[0mimread\u001b[0m\u001b[0;34m)\u001b[0m\u001b[0;34m\u001b[0m\u001b[0;34m\u001b[0m\u001b[0m\n\u001b[1;32m   2060\u001b[0m \u001b[0;32mdef\u001b[0m \u001b[0mimread\u001b[0m\u001b[0;34m(\u001b[0m\u001b[0mfname\u001b[0m\u001b[0;34m,\u001b[0m \u001b[0mformat\u001b[0m\u001b[0;34m=\u001b[0m\u001b[0;32mNone\u001b[0m\u001b[0;34m)\u001b[0m\u001b[0;34m:\u001b[0m\u001b[0;34m\u001b[0m\u001b[0;34m\u001b[0m\u001b[0m\n\u001b[0;32m-> 2061\u001b[0;31m     \u001b[0;32mreturn\u001b[0m \u001b[0mmatplotlib\u001b[0m\u001b[0;34m.\u001b[0m\u001b[0mimage\u001b[0m\u001b[0;34m.\u001b[0m\u001b[0mimread\u001b[0m\u001b[0;34m(\u001b[0m\u001b[0mfname\u001b[0m\u001b[0;34m,\u001b[0m \u001b[0mformat\u001b[0m\u001b[0;34m)\u001b[0m\u001b[0;34m\u001b[0m\u001b[0;34m\u001b[0m\u001b[0m\n\u001b[0m\u001b[1;32m   2062\u001b[0m \u001b[0;34m\u001b[0m\u001b[0m\n\u001b[1;32m   2063\u001b[0m \u001b[0;34m\u001b[0m\u001b[0m\n",
            "\u001b[0;32m/usr/local/lib/python3.6/dist-packages/matplotlib/image.py\u001b[0m in \u001b[0;36mimread\u001b[0;34m(fname, format)\u001b[0m\n\u001b[1;32m   1462\u001b[0m             raise ValueError('Only know how to handle PNG; with Pillow '\n\u001b[1;32m   1463\u001b[0m                              'installed, Matplotlib can handle more images')\n\u001b[0;32m-> 1464\u001b[0;31m         \u001b[0;32mwith\u001b[0m \u001b[0mImage\u001b[0m\u001b[0;34m.\u001b[0m\u001b[0mopen\u001b[0m\u001b[0;34m(\u001b[0m\u001b[0mfname\u001b[0m\u001b[0;34m)\u001b[0m \u001b[0;32mas\u001b[0m \u001b[0mimage\u001b[0m\u001b[0;34m:\u001b[0m\u001b[0;34m\u001b[0m\u001b[0;34m\u001b[0m\u001b[0m\n\u001b[0m\u001b[1;32m   1465\u001b[0m             \u001b[0;32mreturn\u001b[0m \u001b[0mpil_to_array\u001b[0m\u001b[0;34m(\u001b[0m\u001b[0mimage\u001b[0m\u001b[0;34m)\u001b[0m\u001b[0;34m\u001b[0m\u001b[0;34m\u001b[0m\u001b[0m\n\u001b[1;32m   1466\u001b[0m     \u001b[0;32mfrom\u001b[0m \u001b[0mmatplotlib\u001b[0m \u001b[0;32mimport\u001b[0m \u001b[0m_png\u001b[0m\u001b[0;34m\u001b[0m\u001b[0;34m\u001b[0m\u001b[0m\n",
            "\u001b[0;32m/usr/local/lib/python3.6/dist-packages/PIL/Image.py\u001b[0m in \u001b[0;36mopen\u001b[0;34m(fp, mode)\u001b[0m\n\u001b[1;32m   2860\u001b[0m         \u001b[0mwarnings\u001b[0m\u001b[0;34m.\u001b[0m\u001b[0mwarn\u001b[0m\u001b[0;34m(\u001b[0m\u001b[0mmessage\u001b[0m\u001b[0;34m)\u001b[0m\u001b[0;34m\u001b[0m\u001b[0;34m\u001b[0m\u001b[0m\n\u001b[1;32m   2861\u001b[0m     raise UnidentifiedImageError(\n\u001b[0;32m-> 2862\u001b[0;31m         \u001b[0;34m\"cannot identify image file %r\"\u001b[0m \u001b[0;34m%\u001b[0m \u001b[0;34m(\u001b[0m\u001b[0mfilename\u001b[0m \u001b[0;32mif\u001b[0m \u001b[0mfilename\u001b[0m \u001b[0;32melse\u001b[0m \u001b[0mfp\u001b[0m\u001b[0;34m)\u001b[0m\u001b[0;34m\u001b[0m\u001b[0;34m\u001b[0m\u001b[0m\n\u001b[0m\u001b[1;32m   2863\u001b[0m     )\n\u001b[1;32m   2864\u001b[0m \u001b[0;34m\u001b[0m\u001b[0m\n",
            "\u001b[0;31mUnidentifiedImageError\u001b[0m: cannot identify image file 'data.tif'"
          ]
        }
      ]
    }
  ]
}